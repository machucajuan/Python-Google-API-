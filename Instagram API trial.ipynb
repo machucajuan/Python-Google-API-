{
 "cells": [
  {
   "cell_type": "code",
   "execution_count": 1,
   "metadata": {},
   "outputs": [
    {
     "name": "stdout",
     "output_type": "stream",
     "text": [
      "<SpreadSheet 15K-Z...Nw 'Instagram '>\n"
     ]
    }
   ],
   "source": [
    "#Setting up the Gsheets and Drive API by Juan Machuca\n",
    "from gsheets import Sheets\n",
    "sheets = Sheets.from_files(\"C:\\\\Users\\\\Juan\\\\Documents\\\\BI & Data Science\\\\Python\\\\APIs\\\\client_secrets.json\")\n",
    "url = 'https://docs.google.com/spreadsheets/d/15K-ZLoZbcxvN4er65mTdhrmT_IWML-AHD-ZdUWlkINw/edit#gid=2070122368'\n",
    "\n",
    "#Pull data using the API\n",
    "instagram = sheets.get(url)\n",
    "print(instagram)\n"
   ]
  },
  {
   "cell_type": "code",
   "execution_count": 4,
   "metadata": {},
   "outputs": [
    {
     "name": "stdout",
     "output_type": "stream",
     "text": [
      "         Date        Day  Discovery  Interactions  Likes   Follow   Unfollow\n",
      "0   6/28/2020     Sunday      147.0           3.0    12.0      1.0       1.0\n",
      "1   6/29/2020     Monday       78.0           0.0     3.0      0.0       1.0\n",
      "2   6/30/2020    Tuesday       20.0           1.0     3.0      0.0       0.0\n",
      "3    7/1/2020  Wednesday        6.0           1.0     1.0      2.0       1.0\n",
      "4    7/2/2020   Thursday        3.0           1.0     0.0      0.0       2.0\n",
      "5    7/3/2020     Friday        2.0           0.0     0.0      1.0       0.0\n",
      "6    7/4/2020   Saturday        3.0           2.0     0.0      1.0       0.0\n",
      "7    7/5/2020     Sunday        5.0           3.0     0.0      0.0       0.0\n",
      "8    7/6/2020     Monday       38.0           5.0     0.0      0.0       0.0\n",
      "9    7/7/2020    Tuesday       19.0           0.0     0.0      1.0       0.0\n",
      "10   7/8/2020  Wednesday        2.0           1.0     0.0      0.0       0.0\n",
      "11   7/9/2020   Thursday      144.0           1.0    18.0      1.0       0.0\n",
      "12  7/10/2020     Friday       66.0           3.0     1.0      0.0       0.0\n",
      "13  7/11/2020   Saturday       12.0           1.0     0.0      0.0       0.0\n",
      "14  7/12/2020     Sunday        3.0           0.0     0.0      0.0       0.0\n",
      "15  7/13/2020     Monday        2.0           2.0     0.0      0.0       0.0\n",
      "16  7/14/2020    Tuesday        2.0           0.0     0.0      1.0       0.0\n",
      "17  7/15/2020  Wednesday      149.0           2.0    22.0      0.0       0.0\n",
      "18  7/16/2020   Thursday       62.0           3.0     2.0      0.0       1.0\n",
      "19  7/17/2020     Friday       10.0           0.0     0.0      1.0       0.0\n",
      "20  7/18/2020   Saturday        3.0           0.0     0.0      0.0       0.0\n",
      "21  7/19/2020     Sunday        1.0           1.0     0.0      0.0       0.0\n",
      "22  7/20/2020     Monday        1.0           1.0     0.0      0.0       0.0\n",
      "23  7/21/2020    Tuesday        0.0           1.0     0.0      0.0       0.0\n",
      "24  7/22/2020  Wednesday        2.0           2.0     0.0      0.0       3.0\n",
      "25  7/23/2020   Thursday        1.0           0.0     0.0      1.0       0.0\n",
      "26  7/24/2020     Friday        1.0           1.0     0.0      0.0       0.0\n",
      "27  7/25/2020   Saturday        1.0           1.0     0.0      0.0       0.0\n",
      "28  7/26/2020     Sunday        0.0           3.0     0.0      0.0       0.0\n",
      "29  7/27/2020     Monday        1.0           3.0     0.0      1.0       0.0\n",
      "30  7/28/2020    Tuesday        1.0           2.0     0.0      0.0       1.0\n",
      "31  7/29/2020  Wednesday        2.0           0.0     0.0      0.0       0.0\n",
      "32  7/30/2020   Thursday        2.0           1.0     0.0      3.0       0.0\n",
      "33  7/31/2020     Friday        2.0           1.0     0.0      1.0       0.0\n",
      "34   8/1/2020   Saturday        1.0           3.0     0.0      1.0       0.0\n",
      "35   8/2/2020     Sunday        0.0           0.0     0.0      0.0       0.0\n",
      "36   8/3/2020     Monday        NaN           NaN     NaN      NaN       NaN\n",
      "37   8/4/2020    Tuesday        NaN           NaN     NaN      NaN       NaN\n",
      "38   8/5/2020  Wednesday        NaN           NaN     NaN      NaN       NaN\n",
      "39   8/6/2020   Thursday        NaN           NaN     NaN      NaN       NaN\n",
      "40   8/7/2020     Friday        NaN           NaN     NaN      NaN       NaN\n",
      "41   8/8/2020   Saturday        NaN           NaN     NaN      NaN       NaN\n",
      "42   8/9/2020     Sunday        NaN           NaN     NaN      NaN       NaN\n"
     ]
    }
   ],
   "source": [
    "#Import pandas library \n",
    "import pandas as pd\n",
    "instagram.sheets[0].to_csv('Instagram.csv', encoding='utf-8', dialect='excel')\n",
    "\n",
    "#Printing the Data\n",
    "df = pd.read_csv('Instagram.csv')\n",
    "print(df)"
   ]
  },
  {
   "cell_type": "code",
   "execution_count": null,
   "metadata": {},
   "outputs": [],
   "source": []
  }
 ],
 "metadata": {
  "kernelspec": {
   "display_name": "Python 3",
   "language": "python",
   "name": "python3"
  },
  "language_info": {
   "codemirror_mode": {
    "name": "ipython",
    "version": 3
   },
   "file_extension": ".py",
   "mimetype": "text/x-python",
   "name": "python",
   "nbconvert_exporter": "python",
   "pygments_lexer": "ipython3",
   "version": "3.7.6"
  }
 },
 "nbformat": 4,
 "nbformat_minor": 4
}
